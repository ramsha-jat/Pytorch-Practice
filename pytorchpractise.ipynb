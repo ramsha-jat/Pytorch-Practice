{
 "cells": [
  {
   "cell_type": "code",
   "execution_count": 1,
   "metadata": {},
   "outputs": [
    {
     "name": "stdout",
     "output_type": "stream",
     "text": [
      "Requirement already satisfied: torch in d:\\projects\\adam\\lib\\site-packages (2.5.1)\n",
      "Requirement already satisfied: torchvision in d:\\projects\\adam\\lib\\site-packages (0.20.1)\n",
      "Requirement already satisfied: torchaudio in d:\\projects\\adam\\lib\\site-packages (2.5.1)\n",
      "Requirement already satisfied: filelock in d:\\projects\\adam\\lib\\site-packages (from torch) (3.15.4)\n",
      "Requirement already satisfied: typing-extensions>=4.8.0 in d:\\projects\\adam\\lib\\site-packages (from torch) (4.12.2)\n",
      "Requirement already satisfied: networkx in d:\\projects\\adam\\lib\\site-packages (from torch) (3.4.2)\n",
      "Requirement already satisfied: jinja2 in d:\\projects\\adam\\lib\\site-packages (from torch) (3.1.4)\n",
      "Requirement already satisfied: fsspec in d:\\projects\\adam\\lib\\site-packages (from torch) (2024.9.0)\n",
      "Requirement already satisfied: setuptools in d:\\projects\\adam\\lib\\site-packages (from torch) (75.3.0)\n",
      "Requirement already satisfied: sympy==1.13.1 in d:\\projects\\adam\\lib\\site-packages (from torch) (1.13.1)\n",
      "Requirement already satisfied: mpmath<1.4,>=1.1.0 in d:\\projects\\adam\\lib\\site-packages (from sympy==1.13.1->torch) (1.3.0)\n",
      "Requirement already satisfied: numpy in d:\\projects\\adam\\lib\\site-packages (from torchvision) (2.1.3)\n",
      "Requirement already satisfied: pillow!=8.3.*,>=5.3.0 in d:\\projects\\adam\\lib\\site-packages (from torchvision) (11.0.0)\n",
      "Requirement already satisfied: MarkupSafe>=2.0 in d:\\projects\\adam\\lib\\site-packages (from jinja2->torch) (3.0.2)\n",
      "Note: you may need to restart the kernel to use updated packages.\n"
     ]
    },
    {
     "name": "stderr",
     "output_type": "stream",
     "text": [
      "\n",
      "[notice] A new release of pip is available: 24.2 -> 24.3.1\n",
      "[notice] To update, run: python.exe -m pip install --upgrade pip\n"
     ]
    }
   ],
   "source": [
    "pip install torch torchvision torchaudio"
   ]
  },
  {
   "cell_type": "code",
   "execution_count": 4,
   "metadata": {},
   "outputs": [
    {
     "name": "stdout",
     "output_type": "stream",
     "text": [
      "tensor([[0.5629, 0.8027, 0.7972, 0.7440, 0.1069],\n",
      "        [0.4713, 0.1296, 0.3668, 0.6467, 0.8936],\n",
      "        [0.3450, 0.4716, 0.3866, 0.7962, 0.4867]])\n"
     ]
    }
   ],
   "source": [
    "import numpy as np\n",
    "import torch\n",
    "x = torch.rand(3,5)\n",
    "print(x)"
   ]
  },
  {
   "cell_type": "code",
   "execution_count": null,
   "metadata": {},
   "outputs": [
    {
     "name": "stdout",
     "output_type": "stream",
     "text": [
      "False\n"
     ]
    }
   ],
   "source": [
    "#check gpu availability\n",
    "print(torch.cuda.is_available())\n",
    "#PyTorch is an optimized tensor library for deep learning using GPUs and CPUs.\n",
    "#DL framework , help to run code faster using gpus "
   ]
  },
  {
   "cell_type": "code",
   "execution_count": 7,
   "metadata": {},
   "outputs": [
    {
     "name": "stdout",
     "output_type": "stream",
     "text": [
      "tensor([1, 2, 3, 4, 5, 6, 7, 8, 9])\n",
      "tensor([0, 0, 0, 0, 0, 0, 0, 0, 0])\n"
     ]
    }
   ],
   "source": [
    " #tensor array of numbers which represents data in range\n",
    "one_to_ten = torch.arange(start=1,end=10,step=1)\n",
    "print(one_to_ten)\n",
    "print(torch.zeros_like(one_to_ten))"
   ]
  },
  {
   "cell_type": "code",
   "execution_count": 8,
   "metadata": {},
   "outputs": [
    {
     "name": "stdout",
     "output_type": "stream",
     "text": [
      "issue with git push\n"
     ]
    }
   ],
   "source": [
    "print('issue with git push')"
   ]
  },
  {
   "cell_type": "code",
   "execution_count": 9,
   "metadata": {},
   "outputs": [
    {
     "name": "stdout",
     "output_type": "stream",
     "text": [
      "1\n",
      "torch.Size([7])\n"
     ]
    }
   ],
   "source": [
    "scalar = torch.Tensor(7)\n",
    "print(scalar.ndim)\n",
    "print(scalar.shape)"
   ]
  },
  {
   "cell_type": "code",
   "execution_count": 10,
   "metadata": {},
   "outputs": [
    {
     "name": "stdout",
     "output_type": "stream",
     "text": [
      "1\n",
      "torch.Size([2])\n"
     ]
    }
   ],
   "source": [
    "vector = torch.tensor([7,7])\n",
    "print(vector.ndim)\n",
    "print(vector.shape)"
   ]
  },
  {
   "cell_type": "code",
   "execution_count": 11,
   "metadata": {},
   "outputs": [
    {
     "name": "stdout",
     "output_type": "stream",
     "text": [
      "tensor([[7, 8],\n",
      "        [4, 6]])\n",
      "2\n",
      "torch.Size([2, 2])\n",
      "tensor([4, 6])\n"
     ]
    }
   ],
   "source": [
    "matrix = torch.tensor([[7,8],\n",
    "                     [4,6]])\n",
    "print(matrix)\n",
    "print(matrix.ndim)\n",
    "print(matrix.shape)\n",
    "print(matrix[1])\n"
   ]
  },
  {
   "cell_type": "code",
   "execution_count": 12,
   "metadata": {},
   "outputs": [
    {
     "name": "stdout",
     "output_type": "stream",
     "text": [
      "tensor([[[1, 2, 3],\n",
      "         [4, 5, 6],\n",
      "         [7, 8, 9]]])\n",
      "torch.Size([1, 3, 3])\n",
      "3\n",
      "trying different combinations \n",
      "tensor(5)\n"
     ]
    }
   ],
   "source": [
    "m = torch.tensor([[[1,2,3], [4,5,6], [7,8,9]]])\n",
    "print(m)\n",
    "print(m.shape)\n",
    "print(m.ndim)\n",
    "print(\"trying different combinations \")\n",
    "print(m[0,1,1])"
   ]
  },
  {
   "cell_type": "code",
   "execution_count": 13,
   "metadata": {},
   "outputs": [
    {
     "name": "stdout",
     "output_type": "stream",
     "text": [
      "tensor([[[0.8671, 0.9788, 0.3323, 0.2699],\n",
      "         [0.0576, 0.5491, 0.8922, 0.5521],\n",
      "         [0.4977, 0.9989, 0.8197, 0.2644]]])\n"
     ]
    }
   ],
   "source": [
    "#random tensor\n",
    "r = torch.rand(1,3,4)\n",
    "print(r)"
   ]
  },
  {
   "cell_type": "code",
   "execution_count": 14,
   "metadata": {},
   "outputs": [
    {
     "name": "stdout",
     "output_type": "stream",
     "text": [
      "tensor([[[0.8273, 0.2176, 0.6781,  ..., 0.3763, 0.5278, 0.8221],\n",
      "         [0.2485, 0.7334, 0.7902,  ..., 0.2757, 0.5687, 0.7957],\n",
      "         [0.8519, 0.5695, 0.0254,  ..., 0.9659, 0.3879, 0.0579],\n",
      "         ...,\n",
      "         [0.9953, 0.5685, 0.1497,  ..., 0.2984, 0.3096, 0.6002],\n",
      "         [0.3783, 0.8942, 0.4477,  ..., 0.3407, 0.1655, 0.0536],\n",
      "         [0.6057, 0.0886, 0.9439,  ..., 0.0543, 0.2557, 0.7070]],\n",
      "\n",
      "        [[0.0156, 0.2206, 0.9881,  ..., 0.5597, 0.0917, 0.0086],\n",
      "         [0.8281, 0.8685, 0.2302,  ..., 0.8320, 0.2437, 0.9868],\n",
      "         [0.2212, 0.3097, 0.1186,  ..., 0.2607, 0.0335, 0.1923],\n",
      "         ...,\n",
      "         [0.7128, 0.5784, 0.8537,  ..., 0.4339, 0.2773, 0.6606],\n",
      "         [0.1868, 0.4252, 0.8710,  ..., 0.6760, 0.6197, 0.8074],\n",
      "         [0.3874, 0.8357, 0.1369,  ..., 0.6350, 0.4440, 0.2998]],\n",
      "\n",
      "        [[0.7696, 0.5155, 0.7240,  ..., 0.9274, 0.2003, 0.9681],\n",
      "         [0.1030, 0.7188, 0.9261,  ..., 0.1140, 0.6722, 0.4024],\n",
      "         [0.3542, 0.9948, 0.6483,  ..., 0.6332, 0.5991, 0.4841],\n",
      "         ...,\n",
      "         [0.1921, 0.0387, 0.4574,  ..., 0.5846, 0.3080, 0.8487],\n",
      "         [0.4159, 0.6946, 0.9648,  ..., 0.9071, 0.5357, 0.5478],\n",
      "         [0.7220, 0.3223, 0.5910,  ..., 0.7634, 0.8879, 0.2720]]])\n",
      "torch.Size([3, 244, 244])\n",
      "3\n",
      "tensor(0.1186)\n"
     ]
    }
   ],
   "source": [
    "img = torch.rand(size=(3,244,244))\n",
    "print(img)\n",
    "print(img.shape)\n",
    "print(img.ndim)\n",
    "print(img[1,2,2])"
   ]
  },
  {
   "cell_type": "code",
   "execution_count": 15,
   "metadata": {},
   "outputs": [
    {
     "name": "stdout",
     "output_type": "stream",
     "text": [
      "tensor([[0., 0., 0.],\n",
      "        [0., 0., 0.],\n",
      "        [0., 0., 0.]])\n",
      "torch.float32\n",
      "tensor([[1., 1., 1.],\n",
      "        [1., 1., 1.],\n",
      "        [1., 1., 1.]])\n"
     ]
    }
   ],
   "source": [
    "#zeros and ones tensor\n",
    "zeros = torch.zeros(size=(3,3))\n",
    "print(zeros)\n",
    "print(zeros.dtype)\n",
    "ones = torch.ones(size=(3,3))\n",
    "print(ones)\n"
   ]
  },
  {
   "cell_type": "code",
   "execution_count": 19,
   "metadata": {},
   "outputs": [
    {
     "name": "stdout",
     "output_type": "stream",
     "text": [
      "tensor([3., 6., 9.])\n"
     ]
    }
   ],
   "source": [
    "#torch dtypes\n",
    "float32 = torch.tensor([3.0,6.0,9.0 ],\n",
    "                       dtype=None,\n",
    "                       device='cpu',\n",
    "                       requires_grad=False)\n",
    "print(float32)\n",
    "#3 common erros whie dealing with dtypoes in torch\n",
    "#1. tensor not right dtype\n",
    "#2. tensor not right shape\n",
    "#3. tensor not on right device"
   ]
  }
 ],
 "metadata": {
  "kernelspec": {
   "display_name": "Python 3",
   "language": "python",
   "name": "python3"
  },
  "language_info": {
   "codemirror_mode": {
    "name": "ipython",
    "version": 3
   },
   "file_extension": ".py",
   "mimetype": "text/x-python",
   "name": "python",
   "nbconvert_exporter": "python",
   "pygments_lexer": "ipython3",
   "version": "3.12.4"
  }
 },
 "nbformat": 4,
 "nbformat_minor": 2
}
